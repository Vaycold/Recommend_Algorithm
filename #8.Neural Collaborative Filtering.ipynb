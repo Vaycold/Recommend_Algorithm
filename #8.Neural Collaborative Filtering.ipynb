{
  "nbformat": 4,
  "nbformat_minor": 0,
  "metadata": {
    "colab": {
      "name": "Neural Collaborative Filtering.ipynb",
      "provenance": [],
      "collapsed_sections": []
    },
    "kernelspec": {
      "name": "python3",
      "display_name": "Python 3"
    },
    "language_info": {
      "name": "python"
    },
    "accelerator": "GPU"
  },
  "cells": [
    {
      "cell_type": "markdown",
      "metadata": {
        "id": "oHbpNJXGtn0L"
      },
      "source": [
        "## Configuration"
      ]
    },
    {
      "cell_type": "code",
      "metadata": {
        "id": "zFD3bS0-te7f"
      },
      "source": [
        "import os\n",
        "import pandas as pd\n",
        "import numpy as np\n",
        "import matplotlib.pyplot as plt\n",
        "from sklearn.model_selection import train_test_split\n",
        "\n",
        "import math\n",
        "from torch import nn, optim\n",
        "import torch.nn.functional as F\n",
        "from torch.autograd import Variable\n",
        "\n",
        "from tqdm import tqdm\n",
        "import warnings\n",
        "warnings.filterwarnings('ignore')"
      ],
      "execution_count": 1,
      "outputs": []
    },
    {
      "cell_type": "markdown",
      "metadata": {
        "id": "0vUIuu5Iuv4C"
      },
      "source": [
        "## Load the Dataset\n",
        "  - kmrd dataset 이용"
      ]
    },
    {
      "cell_type": "code",
      "metadata": {
        "colab": {
          "base_uri": "https://localhost:8080/"
        },
        "id": "TxU-WsobuBZI",
        "outputId": "21d1da7d-12ee-4f8a-e425-49dfe15f3245"
      },
      "source": [
        "from google.colab import drive\n",
        "drive.mount('/content/MyDrive')"
      ],
      "execution_count": 5,
      "outputs": [
        {
          "output_type": "stream",
          "text": [
            "Mounted at /content/MyDrive\n"
          ],
          "name": "stdout"
        }
      ]
    },
    {
      "cell_type": "code",
      "metadata": {
        "id": "n0ECnkA7vXje"
      },
      "source": [
        "data_path = '/content/MyDrive/MyDrive/fastcampus/recommend/kmrd/kmr_dataset/datafile/kmrd-small'"
      ],
      "execution_count": 2,
      "outputs": []
    },
    {
      "cell_type": "code",
      "metadata": {
        "id": "Op_XqQcrvrXV"
      },
      "source": [
        "def read_data(data_path) :\n",
        "\n",
        "  df = pd.read_csv(os.path.join(data_path,'rates.csv'))\n",
        "  train_df, val_df = train_test_split(df, test_size = 0.2, random_state = 1234, shuffle = True)\n",
        "  return train_df, val_df\n"
      ],
      "execution_count": 3,
      "outputs": []
    },
    {
      "cell_type": "code",
      "metadata": {
        "id": "Z1R3nBknwDDQ"
      },
      "source": [
        "train_df, val_df = read_data(data_path)"
      ],
      "execution_count": 6,
      "outputs": []
    },
    {
      "cell_type": "code",
      "metadata": {
        "colab": {
          "base_uri": "https://localhost:8080/"
        },
        "id": "g8Zb3Zx7wLxn",
        "outputId": "491996f8-2d74-48f2-f8f2-34c72c3cd474"
      },
      "source": [
        "print(train_df.shape)\n",
        "print(val_df.shape)"
      ],
      "execution_count": 7,
      "outputs": [
        {
          "output_type": "stream",
          "text": [
            "(112568, 4)\n",
            "(28142, 4)\n"
          ],
          "name": "stdout"
        }
      ]
    },
    {
      "cell_type": "code",
      "metadata": {
        "colab": {
          "base_uri": "https://localhost:8080/"
        },
        "id": "M2VxbjAVwPLL",
        "outputId": "8ee47370-f7fd-42e0-ac75-a86c04068160"
      },
      "source": [
        "!nvidia-smi"
      ],
      "execution_count": 8,
      "outputs": [
        {
          "output_type": "stream",
          "text": [
            "Sun Apr  4 16:41:19 2021       \n",
            "+-----------------------------------------------------------------------------+\n",
            "| NVIDIA-SMI 460.67       Driver Version: 460.32.03    CUDA Version: 11.2     |\n",
            "|-------------------------------+----------------------+----------------------+\n",
            "| GPU  Name        Persistence-M| Bus-Id        Disp.A | Volatile Uncorr. ECC |\n",
            "| Fan  Temp  Perf  Pwr:Usage/Cap|         Memory-Usage | GPU-Util  Compute M. |\n",
            "|                               |                      |               MIG M. |\n",
            "|===============================+======================+======================|\n",
            "|   0  Tesla T4            Off  | 00000000:00:04.0 Off |                    0 |\n",
            "| N/A   58C    P8    10W /  70W |      0MiB / 15109MiB |      0%      Default |\n",
            "|                               |                      |                  N/A |\n",
            "+-------------------------------+----------------------+----------------------+\n",
            "                                                                               \n",
            "+-----------------------------------------------------------------------------+\n",
            "| Processes:                                                                  |\n",
            "|  GPU   GI   CI        PID   Type   Process name                  GPU Memory |\n",
            "|        ID   ID                                                   Usage      |\n",
            "|=============================================================================|\n",
            "|  No running processes found                                                 |\n",
            "+-----------------------------------------------------------------------------+\n"
          ],
          "name": "stdout"
        }
      ]
    },
    {
      "cell_type": "code",
      "metadata": {
        "colab": {
          "base_uri": "https://localhost:8080/"
        },
        "id": "sj0wMncrwpjb",
        "outputId": "9a6e8c33-fc1c-4d48-ed13-7a10c6445048"
      },
      "source": [
        "val_df.shape"
      ],
      "execution_count": 9,
      "outputs": [
        {
          "output_type": "execute_result",
          "data": {
            "text/plain": [
              "(28142, 4)"
            ]
          },
          "metadata": {
            "tags": []
          },
          "execution_count": 9
        }
      ]
    },
    {
      "cell_type": "code",
      "metadata": {
        "colab": {
          "base_uri": "https://localhost:8080/",
          "height": 428
        },
        "id": "Gwvzaf6JwuYZ",
        "outputId": "156ea8be-2774-46bb-8626-48c912bbb1a3"
      },
      "source": [
        "# rate에 대해서 histogram을 봐보자\n",
        "fig, ax = plt.subplots(1,2, sharex = 'col', sharey = 'row', figsize=(12,7))\n",
        "ax = ax.ravel()\n",
        "\n",
        "train_df['rate'].hist(ax=ax[0])\n",
        "val_df['rate'].hist(ax=ax[1])\n",
        "plt.show()"
      ],
      "execution_count": 12,
      "outputs": [
        {
          "output_type": "display_data",
          "data": {
            "image/png": "[encoded data removed]",
            "text/plain": [
              "<Figure size 864x504 with 2 Axes>"
            ]
          },
          "metadata": {
            "tags": [],
            "needs_background": "light"
          }
        }
      ]
    },
    {
      "cell_type": "code",
      "metadata": {
        "colab": {
          "base_uri": "https://localhost:8080/",
          "height": 284
        },
        "id": "rsVl2eFkxDf6",
        "outputId": "d2b52f41-dd81-43b3-cb09-e47bdd0a84d6"
      },
      "source": [
        "train_df.describe()"
      ],
      "execution_count": 13,
      "outputs": [
        {
          "output_type": "execute_result",
          "data": {
            "text/html": [
              "<div>\n",
              "<style scoped>\n",
              "    .dataframe tbody tr th:only-of-type {\n",
              "        vertical-align: middle;\n",
              "    }\n",
              "\n",
              "    .dataframe tbody tr th {\n",
              "        vertical-align: top;\n",
              "    }\n",
              "\n",
              "    .dataframe thead th {\n",
              "        text-align: right;\n",
              "    }\n",
              "</style>\n",
              "<table border=\"1\" class=\"dataframe\">\n",
              "  <thead>\n",
              "    <tr style=\"text-align: right;\">\n",
              "      <th></th>\n",
              "      <th>user</th>\n",
              "      <th>movie</th>\n",
              "      <th>rate</th>\n",
              "      <th>time</th>\n",
              "    </tr>\n",
              "  </thead>\n",
              "  <tbody>\n",
              "    <tr>\n",
              "      <th>count</th>\n",
              "      <td>112568.000000</td>\n",
              "      <td>112568.000000</td>\n",
              "      <td>112568.000000</td>\n",
              "      <td>1.125680e+05</td>\n",
              "    </tr>\n",
              "    <tr>\n",
              "      <th>mean</th>\n",
              "      <td>14906.170350</td>\n",
              "      <td>10278.906252</td>\n",
              "      <td>8.948369</td>\n",
              "      <td>1.297174e+09</td>\n",
              "    </tr>\n",
              "    <tr>\n",
              "      <th>std</th>\n",
              "      <td>14526.408344</td>\n",
              "      <td>293.051318</td>\n",
              "      <td>2.114602</td>\n",
              "      <td>1.374920e+08</td>\n",
              "    </tr>\n",
              "    <tr>\n",
              "      <th>min</th>\n",
              "      <td>0.000000</td>\n",
              "      <td>10001.000000</td>\n",
              "      <td>1.000000</td>\n",
              "      <td>1.069340e+09</td>\n",
              "    </tr>\n",
              "    <tr>\n",
              "      <th>25%</th>\n",
              "      <td>2979.000000</td>\n",
              "      <td>10048.000000</td>\n",
              "      <td>9.000000</td>\n",
              "      <td>1.180148e+09</td>\n",
              "    </tr>\n",
              "    <tr>\n",
              "      <th>50%</th>\n",
              "      <td>9229.000000</td>\n",
              "      <td>10147.000000</td>\n",
              "      <td>10.000000</td>\n",
              "      <td>1.271166e+09</td>\n",
              "    </tr>\n",
              "    <tr>\n",
              "      <th>75%</th>\n",
              "      <td>24024.250000</td>\n",
              "      <td>10489.000000</td>\n",
              "      <td>10.000000</td>\n",
              "      <td>1.409228e+09</td>\n",
              "    </tr>\n",
              "    <tr>\n",
              "      <th>max</th>\n",
              "      <td>52026.000000</td>\n",
              "      <td>10998.000000</td>\n",
              "      <td>10.000000</td>\n",
              "      <td>1.576526e+09</td>\n",
              "    </tr>\n",
              "  </tbody>\n",
              "</table>\n",
              "</div>"
            ],
            "text/plain": [
              "                user          movie           rate          time\n",
              "count  112568.000000  112568.000000  112568.000000  1.125680e+05\n",
              "mean    14906.170350   10278.906252       8.948369  1.297174e+09\n",
              "std     14526.408344     293.051318       2.114602  1.374920e+08\n",
              "min         0.000000   10001.000000       1.000000  1.069340e+09\n",
              "25%      2979.000000   10048.000000       9.000000  1.180148e+09\n",
              "50%      9229.000000   10147.000000      10.000000  1.271166e+09\n",
              "75%     24024.250000   10489.000000      10.000000  1.409228e+09\n",
              "max     52026.000000   10998.000000      10.000000  1.576526e+09"
            ]
          },
          "metadata": {
            "tags": []
          },
          "execution_count": 13
        }
      ]
    },
    {
      "cell_type": "markdown",
      "metadata": {
        "id": "YEpymc2ExXaD"
      },
      "source": [
        "## Load movie dataframe"
      ]
    },
    {
      "cell_type": "code",
      "metadata": {
        "colab": {
          "base_uri": "https://localhost:8080/",
          "height": 225
        },
        "id": "v2leYnspxKfS",
        "outputId": "bad8333f-0c93-4735-bff1-9c0d5d9f780a"
      },
      "source": [
        "movies_df = pd.read_csv(os.path.join(data_path, 'movies.txt'), sep='\\t', encoding='utf-8')\n",
        "movies_df = movies_df.set_index('movie')\n",
        "\n",
        "castings_df = pd.read_csv(os.path.join(data_path, 'castings.csv'), encoding='utf-8')\n",
        "countries_df = pd.read_csv(os.path.join(data_path, 'countries.csv'), encoding='utf-8')\n",
        "genres_df = pd.read_csv(os.path.join(data_path, 'genres.csv'), encoding='utf-8')\n",
        "\n",
        "# Get Genre information\n",
        "genres = [(list(set(x['movie'].values))[0], '/'.join(x['genre'].values)) for index, x in genres_df.groupby('movie')]\n",
        "combined_genres_df = pd.DataFrame(data=genres, columns = ['movie','genres'])\n",
        "combined_genres_df = combined_genres_df.set_index('movie')\n",
        "\n",
        "# Get casting infromation\n",
        "castings = [(list(set(x['movie'].values))[0], x['people'].values) for index, x in castings_df.groupby('movie')]\n",
        "combined_castings_df = pd.DataFrame(data= castings, columns = ['movie','people'])\n",
        "combined_castings_df = combined_castings_df.set_index('movie')\n",
        "\n",
        "# Get countries for movie information\n",
        "\n",
        "countries = [(list(set(x['movie'].values))[0], ','.join(x['country'].values)) for index, x in countries_df.groupby('movie')]\n",
        "combined_countries_df = pd.DataFrame(data=countries, columns = ['movie', 'country'])\n",
        "combined_countries_df = combined_countries_df.set_index('movie')\n",
        "\n",
        "movies_df = pd.concat([movies_df, combined_genres_df, combined_castings_df, combined_countries_df], axis=1)\n",
        "movies_df.head()"
      ],
      "execution_count": 22,
      "outputs": [
        {
          "output_type": "execute_result",
          "data": {
            "text/html": [
              "<div>\n",
              "<style scoped>\n",
              "    .dataframe tbody tr th:only-of-type {\n",
              "        vertical-align: middle;\n",
              "    }\n",
              "\n",
              "    .dataframe tbody tr th {\n",
              "        vertical-align: top;\n",
              "    }\n",
              "\n",
              "    .dataframe thead th {\n",
              "        text-align: right;\n",
              "    }\n",
              "</style>\n",
              "<table border=\"1\" class=\"dataframe\">\n",
              "  <thead>\n",
              "    <tr style=\"text-align: right;\">\n",
              "      <th></th>\n",
              "      <th>title</th>\n",
              "      <th>title_eng</th>\n",
              "      <th>year</th>\n",
              "      <th>grade</th>\n",
              "      <th>genres</th>\n",
              "      <th>people</th>\n",
              "      <th>country</th>\n",
              "    </tr>\n",
              "    <tr>\n",
              "      <th>movie</th>\n",
              "      <th></th>\n",
              "      <th></th>\n",
              "      <th></th>\n",
              "      <th></th>\n",
              "      <th></th>\n",
              "      <th></th>\n",
              "      <th></th>\n",
              "    </tr>\n",
              "  </thead>\n",
              "  <tbody>\n",
              "    <tr>\n",
              "      <th>10001</th>\n",
              "      <td>시네마 천국</td>\n",
              "      <td>Cinema Paradiso , 1988</td>\n",
              "      <td>2013.0</td>\n",
              "      <td>전체 관람가</td>\n",
              "      <td>드라마/멜로/로맨스</td>\n",
              "      <td>[4374, 178, 3241, 47952, 47953, 19538, 18991, ...</td>\n",
              "      <td>이탈리아,프랑스</td>\n",
              "    </tr>\n",
              "    <tr>\n",
              "      <th>10002</th>\n",
              "      <td>빽 투 더 퓨쳐</td>\n",
              "      <td>Back To The Future , 1985</td>\n",
              "      <td>2015.0</td>\n",
              "      <td>12세 관람가</td>\n",
              "      <td>SF/코미디</td>\n",
              "      <td>[1076, 4603, 917, 8637, 5104, 9986, 7470, 9987]</td>\n",
              "      <td>미국</td>\n",
              "    </tr>\n",
              "    <tr>\n",
              "      <th>10003</th>\n",
              "      <td>빽 투 더 퓨쳐 2</td>\n",
              "      <td>Back To The Future Part 2 , 1989</td>\n",
              "      <td>2015.0</td>\n",
              "      <td>12세 관람가</td>\n",
              "      <td>SF/코미디</td>\n",
              "      <td>[1076, 4603, 917, 5104, 391, 5106, 5105, 5107,...</td>\n",
              "      <td>미국</td>\n",
              "    </tr>\n",
              "    <tr>\n",
              "      <th>10004</th>\n",
              "      <td>빽 투 더 퓨쳐 3</td>\n",
              "      <td>Back To The Future Part III , 1990</td>\n",
              "      <td>1990.0</td>\n",
              "      <td>전체 관람가</td>\n",
              "      <td>서부/SF/판타지/코미디</td>\n",
              "      <td>[1076, 4603, 1031, 5104, 10001, 5984, 10002, 1...</td>\n",
              "      <td>미국</td>\n",
              "    </tr>\n",
              "    <tr>\n",
              "      <th>10005</th>\n",
              "      <td>스타워즈 에피소드 4 - 새로운 희망</td>\n",
              "      <td>Star Wars , 1977</td>\n",
              "      <td>1997.0</td>\n",
              "      <td>PG</td>\n",
              "      <td>판타지/모험/SF/액션</td>\n",
              "      <td>[1007, 535, 215, 1236, 35]</td>\n",
              "      <td>미국</td>\n",
              "    </tr>\n",
              "  </tbody>\n",
              "</table>\n",
              "</div>"
            ],
            "text/plain": [
              "                      title  ...   country\n",
              "movie                        ...          \n",
              "10001                시네마 천국  ...  이탈리아,프랑스\n",
              "10002              빽 투 더 퓨쳐  ...        미국\n",
              "10003            빽 투 더 퓨쳐 2  ...        미국\n",
              "10004            빽 투 더 퓨쳐 3  ...        미국\n",
              "10005  스타워즈 에피소드 4 - 새로운 희망  ...        미국\n",
              "\n",
              "[5 rows x 7 columns]"
            ]
          },
          "metadata": {
            "tags": []
          },
          "execution_count": 22
        }
      ]
    },
    {
      "cell_type": "code",
      "metadata": {
        "id": "Rbbvv5UCybLE"
      },
      "source": [
        "# 영화 데이터의 메타정보를 확인한다.\n",
        "\n",
        "movieName_dict = movies_df.to_dict()['title']\n",
        "genres_dict = movies_df.to_dict()['genres']"
      ],
      "execution_count": 23,
      "outputs": []
    },
    {
      "cell_type": "code",
      "metadata": {
        "id": "YOHZpzVZ3kh9"
      },
      "source": [
        ""
      ],
      "execution_count": null,
      "outputs": []
    }
  ]
}